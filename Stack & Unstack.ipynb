{
 "cells": [
  {
   "cell_type": "code",
   "execution_count": 1,
   "metadata": {
    "collapsed": true,
    "pycharm": {
     "name": "#%%\n"
    }
   },
   "outputs": [
    {
     "name": "stdout",
     "output_type": "stream",
     "text": [
      "Dataframe:\n",
      "    kelas murid pelajaran  nilai\n",
      "0      A    A1      math     90\n",
      "1      A    A1   english     60\n",
      "2      A    A2      math     70\n",
      "3      A    A2   english     85\n",
      "4      A    A3      math     50\n",
      "5      A    A3   english     60\n",
      "6      B    B1      math    100\n",
      "7      B    B1   english     40\n",
      "8      B    B2      math     95\n",
      "9      B    B2   english     80\n",
      "10     B    B3      math     60\n",
      "11     B    B3   english     45\n",
      "Dataframe multi index:\n",
      "                        nilai\n",
      "kelas murid pelajaran       \n",
      "A     A1    math          90\n",
      "            english       60\n",
      "      A2    math          70\n",
      "            english       85\n",
      "      A3    math          50\n",
      "            english       60\n",
      "B     B1    math         100\n",
      "            english       40\n",
      "      B2    math          95\n",
      "            english       80\n",
      "      B3    math          60\n",
      "            english       45\n",
      "Unstacking dataframe:\n",
      "               nilai     \n",
      "pelajaran   english math\n",
      "kelas murid             \n",
      "A     A1         60   90\n",
      "      A2         85   70\n",
      "      A3         60   50\n",
      "B     B1         40  100\n",
      "      B2         80   95\n",
      "      B3         45   60\n",
      "Unstacking dataframe dengan level name:\n",
      "                 nilai                               \n",
      "murid              A1    A2    A3     B1    B2    B3\n",
      "kelas pelajaran                                     \n",
      "A     english    60.0  85.0  60.0    NaN   NaN   NaN\n",
      "      math       90.0  70.0  50.0    NaN   NaN   NaN\n",
      "B     english     NaN   NaN   NaN   40.0  80.0  45.0\n",
      "      math        NaN   NaN   NaN  100.0  95.0  60.0\n",
      "Unstacking dataframe dengan level position:\n",
      "                 nilai                               \n",
      "murid              A1    A2    A3     B1    B2    B3\n",
      "kelas pelajaran                                     \n",
      "A     english    60.0  85.0  60.0    NaN   NaN   NaN\n",
      "      math       90.0  70.0  50.0    NaN   NaN   NaN\n",
      "B     english     NaN   NaN   NaN   40.0  80.0  45.0\n",
      "      math        NaN   NaN   NaN  100.0  95.0  60.0\n"
     ]
    }
   ],
   "source": [
    "#Stack & Unstack - Part 1\n",
    "\n",
    "import pandas as pd\n",
    "# Dataframe\n",
    "data = pd.DataFrame({\n",
    "  'kelas': 6*['A'] + 6*['B'],\n",
    "  'murid': 2*['A1'] + 2*['A2'] + 2*['A3'] + 2*['B1'] + 2*['B2'] + 2*['B3'],\n",
    "  'pelajaran': 6*['math','english'],\n",
    "  'nilai': [90,60,70,85,50,60,100,40,95,80,60,45]\n",
    "}, columns=['kelas','murid','pelajaran','nilai'])\n",
    "print('Dataframe:\\n', data)\n",
    "# Set index data untuk kolom kelas, murid, dan pelajaran\n",
    "data = data.set_index(['kelas','murid','pelajaran'])\n",
    "print('Dataframe multi index:\\n', data)\n",
    "# [1] Unstacking dataframe\n",
    "data_unstack_1 = data.unstack()\n",
    "print('Unstacking dataframe:\\n', data_unstack_1)\n",
    "# [2] Unstacking dengan specify level name\n",
    "data_unstack_2 = data.unstack(level='murid')\n",
    "print('Unstacking dataframe dengan level name:\\n', data_unstack_2)\n",
    "# [3] Unstacking dengan specify level position\n",
    "data_unstack_3 = data.unstack(level=1)\n",
    "print('Unstacking dataframe dengan level position:\\n', data_unstack_3)"
   ]
  },
  {
   "cell_type": "code",
   "execution_count": 2,
   "outputs": [
    {
     "name": "stdout",
     "output_type": "stream",
     "text": [
      "Dataframe:\n",
      "                 nilai                               \n",
      "murid              A1    A2    A3     B1    B2    B3\n",
      "kelas pelajaran                                     \n",
      "A     english    60.0  85.0  60.0    NaN   NaN   NaN\n",
      "      math       90.0  70.0  50.0    NaN   NaN   NaN\n",
      "B     english     NaN   NaN   NaN   40.0  80.0  45.0\n",
      "      math        NaN   NaN   NaN  100.0  95.0  60.0\n"
     ]
    },
    {
     "ename": "AttributeError",
     "evalue": "'DataFrame' object has no attribute 'stac'",
     "output_type": "error",
     "traceback": [
      "\u001B[1;31m---------------------------------------------------------------------------\u001B[0m",
      "\u001B[1;31mAttributeError\u001B[0m                            Traceback (most recent call last)",
      "Input \u001B[1;32mIn [2]\u001B[0m, in \u001B[0;36m<cell line: 15>\u001B[1;34m()\u001B[0m\n\u001B[0;32m     13\u001B[0m \u001B[38;5;28mprint\u001B[39m(\u001B[38;5;124m'\u001B[39m\u001B[38;5;124mDataframe:\u001B[39m\u001B[38;5;130;01m\\n\u001B[39;00m\u001B[38;5;124m'\u001B[39m, data_unstack)\n\u001B[0;32m     14\u001B[0m \u001B[38;5;66;03m# [1] Stacking dataframe\u001B[39;00m\n\u001B[1;32m---> 15\u001B[0m data_stack \u001B[38;5;241m=\u001B[39m \u001B[43mdata_unstack\u001B[49m\u001B[38;5;241;43m.\u001B[39;49m\u001B[43mstac\u001B[49m()\n\u001B[0;32m     16\u001B[0m \u001B[38;5;28mprint\u001B[39m(\u001B[38;5;124m'\u001B[39m\u001B[38;5;124mStacked dataframe:\u001B[39m\u001B[38;5;130;01m\\n\u001B[39;00m\u001B[38;5;124m'\u001B[39m, data_stack)\n\u001B[0;32m     17\u001B[0m \u001B[38;5;66;03m# [2] Tukar posisi index setelah stacking dataframe\u001B[39;00m\n",
      "File \u001B[1;32mE:\\Developer\\Python\\Data Manipulation with Pandas - Part 2\\venv\\lib\\site-packages\\pandas\\core\\generic.py:5575\u001B[0m, in \u001B[0;36mNDFrame.__getattr__\u001B[1;34m(self, name)\u001B[0m\n\u001B[0;32m   5568\u001B[0m \u001B[38;5;28;01mif\u001B[39;00m (\n\u001B[0;32m   5569\u001B[0m     name \u001B[38;5;129;01mnot\u001B[39;00m \u001B[38;5;129;01min\u001B[39;00m \u001B[38;5;28mself\u001B[39m\u001B[38;5;241m.\u001B[39m_internal_names_set\n\u001B[0;32m   5570\u001B[0m     \u001B[38;5;129;01mand\u001B[39;00m name \u001B[38;5;129;01mnot\u001B[39;00m \u001B[38;5;129;01min\u001B[39;00m \u001B[38;5;28mself\u001B[39m\u001B[38;5;241m.\u001B[39m_metadata\n\u001B[0;32m   5571\u001B[0m     \u001B[38;5;129;01mand\u001B[39;00m name \u001B[38;5;129;01mnot\u001B[39;00m \u001B[38;5;129;01min\u001B[39;00m \u001B[38;5;28mself\u001B[39m\u001B[38;5;241m.\u001B[39m_accessors\n\u001B[0;32m   5572\u001B[0m     \u001B[38;5;129;01mand\u001B[39;00m \u001B[38;5;28mself\u001B[39m\u001B[38;5;241m.\u001B[39m_info_axis\u001B[38;5;241m.\u001B[39m_can_hold_identifiers_and_holds_name(name)\n\u001B[0;32m   5573\u001B[0m ):\n\u001B[0;32m   5574\u001B[0m     \u001B[38;5;28;01mreturn\u001B[39;00m \u001B[38;5;28mself\u001B[39m[name]\n\u001B[1;32m-> 5575\u001B[0m \u001B[38;5;28;01mreturn\u001B[39;00m \u001B[38;5;28;43mobject\u001B[39;49m\u001B[38;5;241;43m.\u001B[39;49m\u001B[38;5;21;43m__getattribute__\u001B[39;49m\u001B[43m(\u001B[49m\u001B[38;5;28;43mself\u001B[39;49m\u001B[43m,\u001B[49m\u001B[43m \u001B[49m\u001B[43mname\u001B[49m\u001B[43m)\u001B[49m\n",
      "\u001B[1;31mAttributeError\u001B[0m: 'DataFrame' object has no attribute 'stac'"
     ]
    }
   ],
   "source": [
    "#Stack & Unstack - Part 2\n",
    "\n",
    "import pandas as pd\n",
    "# Dataframe\n",
    "data = pd.DataFrame({\n",
    "  'kelas': 6*['A'] + 6*['B'],\n",
    "  'murid': 2*['A1'] + 2*['A2'] + 2*['A3'] + 2*['B1'] + 2*['B2'] + 2*['B3'],\n",
    "  'pelajaran': 6*['math','english'],\n",
    "  'nilai': [90,60,70,85,50,60,100,40,95,80,60,45]\n",
    "}, columns=['kelas','murid','pelajaran','nilai'])\n",
    "data = data.set_index(['kelas','murid','pelajaran'])\n",
    "data_unstack = data.unstack(level=1)\n",
    "print('Dataframe:\\n', data_unstack)\n",
    "# [1] Stacking dataframe\n",
    "data_stack = data_unstack.stac()\n",
    "print('Stacked dataframe:\\n', data_stack)\n",
    "# [2] Tukar posisi index setelah stacking dataframe\n",
    "data_swap = data_stack.swaplevel(1,2)\n",
    "print('Swapped data:\\n', data_swap)\n",
    "# [3] Melakukan sort_index pada stacking dataframe\n",
    "data_sort = data_swap.sort_index()\n",
    "print('Sorted data:\\n', data_sort)"
   ],
   "metadata": {
    "collapsed": false,
    "pycharm": {
     "name": "#%%\n"
    }
   }
  }
 ],
 "metadata": {
  "kernelspec": {
   "display_name": "Python 3",
   "language": "python",
   "name": "python3"
  },
  "language_info": {
   "codemirror_mode": {
    "name": "ipython",
    "version": 2
   },
   "file_extension": ".py",
   "mimetype": "text/x-python",
   "name": "python",
   "nbconvert_exporter": "python",
   "pygments_lexer": "ipython2",
   "version": "2.7.6"
  }
 },
 "nbformat": 4,
 "nbformat_minor": 0
}